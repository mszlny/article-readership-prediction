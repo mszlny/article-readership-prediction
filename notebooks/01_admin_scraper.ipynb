{
 "cells": [
  {
   "cell_type": "code",
   "execution_count": null,
   "id": "29fc24e7-83c3-426e-a598-a17836555f60",
   "metadata": {},
   "outputs": [],
   "source": [
    "import requests\n",
    "from bs4 import BeautifulSoup as bs\n",
    "import csv\n",
    "from openpyxl import Workbook #To export data to Excel\n",
    "\n",
    "from selenium import webdriver\n",
    "from selenium.webdriver.common.by import By\n",
    "from selenium.webdriver.common.keys import Keys\n",
    "import time"
   ]
  },
  {
   "cell_type": "code",
   "execution_count": null,
   "id": "b0ef2be0-a9e6-4cd0-940a-032d09914fdf",
   "metadata": {},
   "outputs": [],
   "source": [
    "#Enter basic data and URLs\n",
    "page = 1\n",
    "\n",
    "base_link = 'https://www.newsportal.hu' #This is just an example link!\n",
    "login_url = 'https://www.newsportal.hu/admin/login' #This is just an example link!"
   ]
  },
  {
   "cell_type": "code",
   "execution_count": null,
   "id": "15c1157f-35b6-4861-9c7c-6532d7170e61",
   "metadata": {},
   "outputs": [],
   "source": [
    "driver = webdriver.Chrome()\n",
    "driver.get(login_url)\n",
    "\n",
    "#Entering login data\n",
    "driver.find_element(By.NAME, 'ldap_username').send_keys('own_username') #Enter your own username\n",
    "driver.find_element(By.NAME, 'password').send_keys('own_password') #Enter your own password\n",
    "driver.find_element(By.NAME, 'password').send_keys(Keys.RETURN)\n",
    "\n",
    "time.sleep(10)  #Waiting for the 2FA page\n",
    "\n",
    "#Enter the 2FA code manually\n",
    "input(\"Type the 2FA code and press Enter....\")\n",
    "\n",
    "session = requests.Session()\n",
    "cookies = driver.get_cookies()\n",
    "for cookie in cookies:\n",
    "    session.cookies.set(cookie['name'], cookie['value'])\n",
    "\n",
    "driver.quit()"
   ]
  },
  {
   "cell_type": "code",
   "execution_count": null,
   "id": "1563a2b0-72ef-4b46-9085-3cb8d014ec0e",
   "metadata": {},
   "outputs": [],
   "source": [
    "#List of the heading names\n",
    "article_types = ['Tabloid lead article', 'Afternoon lead article', 'Morning lead article', 'Early morning lead article', '-- Not lead article --']"
   ]
  },
  {
   "cell_type": "code",
   "execution_count": null,
   "id": "d5ad08fe-e197-4d32-be88-1fa3fb300dca",
   "metadata": {},
   "outputs": [],
   "source": [
    "articles = []\n",
    "\n",
    "while page != 5:\n",
    "    url = f'https://www.newsportal.hu/admin/articles?page={page}'\n",
    "\n",
    "    protexted_page = session.get(url)\n",
    "    soup = bs(protexted_page.text, 'html.parser')\n",
    "    tbody = soup.find('tbody')\n",
    "\n",
    "    dates = tbody.find_all('td', class_ = 'pl-2 text-nowrap') #Publication dates of articles\n",
    "    titles = tbody.find_all('div', class_ = 'text-truncate w-100 weight-700 pl-1') #Titles of articles\n",
    "    robot = tbody.find_all('td', class_ = 'position-relative') #AI generated article?\n",
    "    stats = tbody.find_all('td', class_ = 'text-nowrap text-center') #Numbers of clicks\n",
    "    headings = tbody.find_all('a', class_ = 'label label-default weight-600 pxl-12') #Names of headings\n",
    "    authors = tbody.find_all('a', class_ = 'text-dark') #Authors\n",
    "    top = tbody.find_all('div', class_ = 'type') #Top (lead) article?\n",
    "\n",
    "    lead_articles = tbody.find_all('td', title = True) #Filtering out <td> elements that have a title= attribute\n",
    "    lead_types = []\n",
    "\n",
    "    for i in range(len(lead_articles)):\n",
    "        if lead_articles[i]['title'] in article_types: #If the title= attribute value is in the list, append it\n",
    "            lead_types.append(lead_articles[i]['title'])\n",
    "\n",
    "    for i in range(20):\n",
    "        article = {}\n",
    "        article['date'] = dates[i].get_text()\n",
    "        article['title'] = titles[i].find('a')['title']\n",
    "        article['url'] = base_link + titles[i].find('a')['data-url']\n",
    "        article['robot'] = robot[i]['title']\n",
    "\n",
    "        try:\n",
    "            article['stat'] = int(stats[i].get_text().strip())\n",
    "        except ValueError:\n",
    "            article['stat'] = 0\n",
    "\n",
    "        try:\n",
    "            article['heading'] = headings[i].get_text()\n",
    "        except IndexError:\n",
    "            article['heading'] = 'No heading'\n",
    "            \n",
    "        article['author'] = authors[i].get_text()\n",
    "        article['top'] = top[i]['data-type']\n",
    "        article['lead'] = lead_types[i]\n",
    "    \n",
    "        articles.append(article)\n",
    "\n",
    "    for article in articles:\n",
    "        if article['lead'] == '-- Not lead article --':\n",
    "            article['lead'] = cikk['lead'].strip('- ')\n",
    "\n",
    "    print(f'Here we are now: {page}') #Write down the page number to check\n",
    "    page += 1"
   ]
  },
  {
   "cell_type": "code",
   "execution_count": null,
   "id": "512b9d6e-56f4-4149-815b-0687f8015ecc",
   "metadata": {},
   "outputs": [],
   "source": [
    "#Creating csv file from the data\n",
    "with open ('probe.csv', 'w', newline = '', encoding = 'utf-8') as csvfile:\n",
    "    writer = csv.writer(csvfile)\n",
    "\n",
    "    for article in articles:\n",
    "        writer.writerow(article.values())"
   ]
  },
  {
   "cell_type": "code",
   "execution_count": null,
   "id": "6a98fdfc-f055-4536-9ff1-b28b4408cd47",
   "metadata": {},
   "outputs": [],
   "source": [
    "#Creating xlsx file from the data\n",
    "workbook = Workbook()\n",
    "sheet = workbook.active\n",
    "\n",
    "sheet.append(['Date', 'Title', 'URL', 'Robot?', 'Stat', 'Heading', 'Author', 'Top', 'Lead article?'])\n",
    "\n",
    "for article in articles:\n",
    "    sheet.append(list(article.values()))\n",
    "\n",
    "workbook.save('articles_2024.xlsx')"
   ]
  }
 ],
 "metadata": {
  "kernelspec": {
   "display_name": "Python 3.12.5",
   "language": "python",
   "name": "python312"
  },
  "language_info": {
   "codemirror_mode": {
    "name": "ipython",
    "version": 3
   },
   "file_extension": ".py",
   "mimetype": "text/x-python",
   "name": "python",
   "nbconvert_exporter": "python",
   "pygments_lexer": "ipython3",
   "version": "3.12.5"
  }
 },
 "nbformat": 4,
 "nbformat_minor": 5
}
