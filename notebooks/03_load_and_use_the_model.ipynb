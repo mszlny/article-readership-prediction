{
 "cells": [
  {
   "cell_type": "code",
   "execution_count": 1,
   "id": "1561d45d-081e-4963-91c8-bdb7b6eff351",
   "metadata": {},
   "outputs": [],
   "source": [
    "import joblib\n",
    "import pandas as pd\n",
    "import re\n",
    "import sys\n",
    "sys.path.append('../src') #Add src/ to the import path\n",
    "from utils import preprocess_article"
   ]
  },
  {
   "cell_type": "code",
   "execution_count": 2,
   "id": "f9a5fd4f-03d6-4d78-98b2-aa8ff884fd40",
   "metadata": {},
   "outputs": [],
   "source": [
    "loaded_model = joblib.load('readership_predictor.pkl')"
   ]
  },
  {
   "cell_type": "code",
   "execution_count": 3,
   "id": "a896fb59-b303-4842-a937-37581bf6e1d4",
   "metadata": {},
   "outputs": [],
   "source": [
    "probe_article_title = preprocess_article('Devizapiac: vegyesen mozgott a forint reggel',\n",
    "                                   'Not lead') #Probe article title"
   ]
  },
  {
   "cell_type": "code",
   "execution_count": 4,
   "id": "7859ef1a-ac3c-49df-b95e-81c29c3e9281",
   "metadata": {},
   "outputs": [
    {
     "name": "stdout",
     "output_type": "stream",
     "text": [
      "[4364.2405672]\n"
     ]
    }
   ],
   "source": [
    "predicted_clicks = loaded_model.predict(probe_article_title)\n",
    "print(predicted_clicks)"
   ]
  },
  {
   "cell_type": "code",
   "execution_count": null,
   "id": "fed37007-3843-4497-b351-9daa6031bde1",
   "metadata": {},
   "outputs": [],
   "source": []
  }
 ],
 "metadata": {
  "kernelspec": {
   "display_name": "Python 3.12.5",
   "language": "python",
   "name": "python312"
  },
  "language_info": {
   "codemirror_mode": {
    "name": "ipython",
    "version": 3
   },
   "file_extension": ".py",
   "mimetype": "text/x-python",
   "name": "python",
   "nbconvert_exporter": "python",
   "pygments_lexer": "ipython3",
   "version": "3.12.5"
  }
 },
 "nbformat": 4,
 "nbformat_minor": 5
}
