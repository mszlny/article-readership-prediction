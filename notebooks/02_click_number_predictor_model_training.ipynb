{
 "cells": [
  {
   "cell_type": "code",
   "execution_count": 1,
   "id": "0bf86762-84f4-40dc-be78-1408882aae02",
   "metadata": {},
   "outputs": [],
   "source": [
    "import pandas as pd\n",
    "import numpy as np\n",
    "import seaborn as sns\n",
    "import matplotlib.pyplot as plt\n",
    "import nltk\n",
    "\n",
    "%matplotlib inline"
   ]
  },
  {
   "cell_type": "code",
   "execution_count": 2,
   "id": "47368d9a-54f6-4276-8e76-ceba66c03d05",
   "metadata": {},
   "outputs": [
    {
     "data": {
      "text/html": [
       "<div>\n",
       "<style scoped>\n",
       "    .dataframe tbody tr th:only-of-type {\n",
       "        vertical-align: middle;\n",
       "    }\n",
       "\n",
       "    .dataframe tbody tr th {\n",
       "        vertical-align: top;\n",
       "    }\n",
       "\n",
       "    .dataframe thead th {\n",
       "        text-align: right;\n",
       "    }\n",
       "</style>\n",
       "<table border=\"1\" class=\"dataframe\">\n",
       "  <thead>\n",
       "    <tr style=\"text-align: right;\">\n",
       "      <th></th>\n",
       "      <th>Date</th>\n",
       "      <th>Title</th>\n",
       "      <th>URL</th>\n",
       "      <th>Robot?</th>\n",
       "      <th>Stat</th>\n",
       "      <th>Heading</th>\n",
       "      <th>Author</th>\n",
       "      <th>Top</th>\n",
       "      <th>Lead article?</th>\n",
       "    </tr>\n",
       "  </thead>\n",
       "  <tbody>\n",
       "    <tr>\n",
       "      <th>0</th>\n",
       "      <td>2024.12.31 21:02</td>\n",
       "      <td>Example article title 1</td>\n",
       "      <td>https://www.newsportal.hu/health/20241231/exam...</td>\n",
       "      <td>Not a robot article</td>\n",
       "      <td>13094</td>\n",
       "      <td>Health</td>\n",
       "      <td>Author_1</td>\n",
       "      <td>0</td>\n",
       "      <td>Not lead article</td>\n",
       "    </tr>\n",
       "    <tr>\n",
       "      <th>1</th>\n",
       "      <td>2024.12.31 20:01</td>\n",
       "      <td>Example article title 2</td>\n",
       "      <td>https://www.newsportal.hu/global/20241231/exam...</td>\n",
       "      <td>Not a robot article</td>\n",
       "      <td>50306</td>\n",
       "      <td>Global</td>\n",
       "      <td>Author_1</td>\n",
       "      <td>0</td>\n",
       "      <td>Not lead article</td>\n",
       "    </tr>\n",
       "    <tr>\n",
       "      <th>2</th>\n",
       "      <td>2024.12.31 19:03</td>\n",
       "      <td>Example article title 3</td>\n",
       "      <td>https://www.newsportal.hu/economy/20241231/exa...</td>\n",
       "      <td>Not a robot article</td>\n",
       "      <td>9974</td>\n",
       "      <td>Economy</td>\n",
       "      <td>Author_2</td>\n",
       "      <td>2</td>\n",
       "      <td>Afternoon lead article</td>\n",
       "    </tr>\n",
       "    <tr>\n",
       "      <th>3</th>\n",
       "      <td>2024.12.31 18:29</td>\n",
       "      <td>Example article title 4</td>\n",
       "      <td>https://www.newsportal.hu/home/20241231/exampl...</td>\n",
       "      <td>Not a robot article</td>\n",
       "      <td>5534</td>\n",
       "      <td>Home</td>\n",
       "      <td>Author_3</td>\n",
       "      <td>3</td>\n",
       "      <td>Not lead article</td>\n",
       "    </tr>\n",
       "    <tr>\n",
       "      <th>4</th>\n",
       "      <td>2024.12.31 18:02</td>\n",
       "      <td>Example article title 5</td>\n",
       "      <td>https://www.newsportal.hu/entertainment/202412...</td>\n",
       "      <td>Robot-generated article</td>\n",
       "      <td>3530</td>\n",
       "      <td>Entertainment</td>\n",
       "      <td>Author_1</td>\n",
       "      <td>0</td>\n",
       "      <td>Not lead article</td>\n",
       "    </tr>\n",
       "    <tr>\n",
       "      <th>5</th>\n",
       "      <td>2024.12.31 17:31</td>\n",
       "      <td>Example article title 6</td>\n",
       "      <td>https://www.newsportal.hu/global/20241231/exam...</td>\n",
       "      <td>Not a robot article</td>\n",
       "      <td>5256</td>\n",
       "      <td>Global</td>\n",
       "      <td>Author_4</td>\n",
       "      <td>0</td>\n",
       "      <td>Not lead article</td>\n",
       "    </tr>\n",
       "    <tr>\n",
       "      <th>6</th>\n",
       "      <td>2024.12.31 17:10</td>\n",
       "      <td>Example article title 7</td>\n",
       "      <td>https://www.newsportal.hu/pension/20241231/exa...</td>\n",
       "      <td>Not a robot article</td>\n",
       "      <td>24768</td>\n",
       "      <td>Pension</td>\n",
       "      <td>Author_3</td>\n",
       "      <td>3</td>\n",
       "      <td>Not lead article</td>\n",
       "    </tr>\n",
       "    <tr>\n",
       "      <th>7</th>\n",
       "      <td>2024.12.31 17:02</td>\n",
       "      <td>Example article title 8</td>\n",
       "      <td>https://www.newsportal.hu/global/20241231/exam...</td>\n",
       "      <td>Robot-generated article</td>\n",
       "      <td>2540</td>\n",
       "      <td>Global</td>\n",
       "      <td>Author_1</td>\n",
       "      <td>0</td>\n",
       "      <td>Not lead article</td>\n",
       "    </tr>\n",
       "    <tr>\n",
       "      <th>8</th>\n",
       "      <td>2024.12.31 16:34</td>\n",
       "      <td>Example article title 9</td>\n",
       "      <td>https://www.newsportal.hu/enterprise/20241231/...</td>\n",
       "      <td>Not a robot article</td>\n",
       "      <td>29260</td>\n",
       "      <td>Enterprise</td>\n",
       "      <td>Author_4</td>\n",
       "      <td>0</td>\n",
       "      <td>Not lead article</td>\n",
       "    </tr>\n",
       "    <tr>\n",
       "      <th>9</th>\n",
       "      <td>2024.12.31 16:01</td>\n",
       "      <td>Example article title 10</td>\n",
       "      <td>https://www.newsportal.hu/savings/20241231/exa...</td>\n",
       "      <td>Not a robot article</td>\n",
       "      <td>25308</td>\n",
       "      <td>Savings</td>\n",
       "      <td>Author_5</td>\n",
       "      <td>2</td>\n",
       "      <td>Afternoon lead article</td>\n",
       "    </tr>\n",
       "    <tr>\n",
       "      <th>10</th>\n",
       "      <td>2024.12.31 15:34</td>\n",
       "      <td>Example article title 11</td>\n",
       "      <td>https://www.newsportal.hu/health/20241231/exam...</td>\n",
       "      <td>Not a robot article</td>\n",
       "      <td>5616</td>\n",
       "      <td>Health</td>\n",
       "      <td>Author_4</td>\n",
       "      <td>0</td>\n",
       "      <td>Not lead article</td>\n",
       "    </tr>\n",
       "  </tbody>\n",
       "</table>\n",
       "</div>"
      ],
      "text/plain": [
       "                Date                     Title  \\\n",
       "0   2024.12.31 21:02   Example article title 1   \n",
       "1   2024.12.31 20:01   Example article title 2   \n",
       "2   2024.12.31 19:03   Example article title 3   \n",
       "3   2024.12.31 18:29   Example article title 4   \n",
       "4   2024.12.31 18:02   Example article title 5   \n",
       "5   2024.12.31 17:31   Example article title 6   \n",
       "6   2024.12.31 17:10   Example article title 7   \n",
       "7   2024.12.31 17:02   Example article title 8   \n",
       "8   2024.12.31 16:34   Example article title 9   \n",
       "9   2024.12.31 16:01  Example article title 10   \n",
       "10  2024.12.31 15:34  Example article title 11   \n",
       "\n",
       "                                                  URL  \\\n",
       "0   https://www.newsportal.hu/health/20241231/exam...   \n",
       "1   https://www.newsportal.hu/global/20241231/exam...   \n",
       "2   https://www.newsportal.hu/economy/20241231/exa...   \n",
       "3   https://www.newsportal.hu/home/20241231/exampl...   \n",
       "4   https://www.newsportal.hu/entertainment/202412...   \n",
       "5   https://www.newsportal.hu/global/20241231/exam...   \n",
       "6   https://www.newsportal.hu/pension/20241231/exa...   \n",
       "7   https://www.newsportal.hu/global/20241231/exam...   \n",
       "8   https://www.newsportal.hu/enterprise/20241231/...   \n",
       "9   https://www.newsportal.hu/savings/20241231/exa...   \n",
       "10  https://www.newsportal.hu/health/20241231/exam...   \n",
       "\n",
       "                     Robot?   Stat        Heading    Author  Top  \\\n",
       "0       Not a robot article  13094         Health  Author_1    0   \n",
       "1       Not a robot article  50306         Global  Author_1    0   \n",
       "2       Not a robot article   9974        Economy  Author_2    2   \n",
       "3       Not a robot article   5534           Home  Author_3    3   \n",
       "4   Robot-generated article   3530  Entertainment  Author_1    0   \n",
       "5       Not a robot article   5256         Global  Author_4    0   \n",
       "6       Not a robot article  24768        Pension  Author_3    3   \n",
       "7   Robot-generated article   2540         Global  Author_1    0   \n",
       "8       Not a robot article  29260     Enterprise  Author_4    0   \n",
       "9       Not a robot article  25308        Savings  Author_5    2   \n",
       "10      Not a robot article   5616         Health  Author_4    0   \n",
       "\n",
       "             Lead article?  \n",
       "0         Not lead article  \n",
       "1         Not lead article  \n",
       "2   Afternoon lead article  \n",
       "3         Not lead article  \n",
       "4         Not lead article  \n",
       "5         Not lead article  \n",
       "6         Not lead article  \n",
       "7         Not lead article  \n",
       "8         Not lead article  \n",
       "9   Afternoon lead article  \n",
       "10        Not lead article  "
      ]
     },
     "execution_count": 2,
     "metadata": {},
     "output_type": "execute_result"
    }
   ],
   "source": [
    "#Example file to see what kind of data we are working with\n",
    "df_example = pd.read_excel('articles_example_2024.xlsx')\n",
    "df_example"
   ]
  },
  {
   "cell_type": "code",
   "execution_count": 3,
   "id": "444791c6-71f5-4e23-9c62-af2ddb668e25",
   "metadata": {},
   "outputs": [],
   "source": [
    "df = pd.read_excel('articles_2024.xlsx')"
   ]
  },
  {
   "cell_type": "code",
   "execution_count": 4,
   "id": "687614b6-c2ca-4ef9-bbae-481708af3766",
   "metadata": {},
   "outputs": [],
   "source": [
    "df = df[2:-17] #Cutting off articles from 2023 and 2025"
   ]
  },
  {
   "cell_type": "code",
   "execution_count": 5,
   "id": "55ce9fdd-a12d-4bc3-a913-81b1e02fcdac",
   "metadata": {},
   "outputs": [],
   "source": [
    "df.drop('URL', axis = 1, inplace = True) #Drop URL column"
   ]
  },
  {
   "cell_type": "code",
   "execution_count": 6,
   "id": "5dde8080-b8c4-475f-80a3-d8e6b66ce205",
   "metadata": {},
   "outputs": [],
   "source": [
    "df = df[df['Author'] != 'Automatic'] #Drop automatic articles\n",
    "df.reset_index(inplace = True, drop = True)"
   ]
  },
  {
   "cell_type": "code",
   "execution_count": 7,
   "id": "57702045-4148-4871-8f29-8ea9966efcc0",
   "metadata": {},
   "outputs": [],
   "source": [
    "#For some reason there is a 'No heading' category, we will rename it\n",
    "df[df['Heading'] == 'No heading']\n",
    "df.iloc[6373, 4] = 'Savings'"
   ]
  },
  {
   "cell_type": "code",
   "execution_count": 8,
   "id": "e81caa6e-0fe4-41ec-a82f-4bc42ba59beb",
   "metadata": {},
   "outputs": [
    {
     "name": "stderr",
     "output_type": "stream",
     "text": [
      "C:\\Users\\tamas\\AppData\\Local\\Temp\\ipykernel_5136\\2951544555.py:2: FutureWarning: Setting an item of incompatible dtype is deprecated and will raise in a future error of pandas. Value '0        1\n",
      "1        0\n",
      "2        0\n",
      "3        0\n",
      "4        0\n",
      "        ..\n",
      "15294    0\n",
      "15295    0\n",
      "15296    0\n",
      "15297    0\n",
      "15298    0\n",
      "Name: Lead article?_Afternoon lead article, Length: 15299, dtype: int64' has dtype incompatible with bool, please explicitly cast to a compatible dtype first.\n",
      "  df.iloc[:,-5:] = df.iloc[:,-5:].astype(int) #Convert True and False values in new columns to numbers\n",
      "C:\\Users\\tamas\\AppData\\Local\\Temp\\ipykernel_5136\\2951544555.py:2: FutureWarning: Setting an item of incompatible dtype is deprecated and will raise in a future error of pandas. Value '0        0\n",
      "1        0\n",
      "2        0\n",
      "3        0\n",
      "4        0\n",
      "        ..\n",
      "15294    0\n",
      "15295    0\n",
      "15296    1\n",
      "15297    0\n",
      "15298    0\n",
      "Name: Lead article?_Early morning lead article, Length: 15299, dtype: int64' has dtype incompatible with bool, please explicitly cast to a compatible dtype first.\n",
      "  df.iloc[:,-5:] = df.iloc[:,-5:].astype(int) #Convert True and False values in new columns to numbers\n",
      "C:\\Users\\tamas\\AppData\\Local\\Temp\\ipykernel_5136\\2951544555.py:2: FutureWarning: Setting an item of incompatible dtype is deprecated and will raise in a future error of pandas. Value '0        0\n",
      "1        0\n",
      "2        0\n",
      "3        0\n",
      "4        0\n",
      "        ..\n",
      "15294    0\n",
      "15295    0\n",
      "15296    0\n",
      "15297    0\n",
      "15298    0\n",
      "Name: Lead article?_Morning lead article, Length: 15299, dtype: int64' has dtype incompatible with bool, please explicitly cast to a compatible dtype first.\n",
      "  df.iloc[:,-5:] = df.iloc[:,-5:].astype(int) #Convert True and False values in new columns to numbers\n",
      "C:\\Users\\tamas\\AppData\\Local\\Temp\\ipykernel_5136\\2951544555.py:2: FutureWarning: Setting an item of incompatible dtype is deprecated and will raise in a future error of pandas. Value '0        0\n",
      "1        1\n",
      "2        1\n",
      "3        1\n",
      "4        1\n",
      "        ..\n",
      "15294    1\n",
      "15295    1\n",
      "15296    0\n",
      "15297    1\n",
      "15298    1\n",
      "Name: Lead article?_Not lead article, Length: 15299, dtype: int64' has dtype incompatible with bool, please explicitly cast to a compatible dtype first.\n",
      "  df.iloc[:,-5:] = df.iloc[:,-5:].astype(int) #Convert True and False values in new columns to numbers\n",
      "C:\\Users\\tamas\\AppData\\Local\\Temp\\ipykernel_5136\\2951544555.py:2: FutureWarning: Setting an item of incompatible dtype is deprecated and will raise in a future error of pandas. Value '0        0\n",
      "1        0\n",
      "2        0\n",
      "3        0\n",
      "4        0\n",
      "        ..\n",
      "15294    0\n",
      "15295    0\n",
      "15296    0\n",
      "15297    0\n",
      "15298    0\n",
      "Name: Lead article?_Tabloid lead article, Length: 15299, dtype: int64' has dtype incompatible with bool, please explicitly cast to a compatible dtype first.\n",
      "  df.iloc[:,-5:] = df.iloc[:,-5:].astype(int) #Convert True and False values in new columns to numbers\n"
     ]
    }
   ],
   "source": [
    "df = pd.get_dummies(df, columns = ['Lead article?'], drop_first = False) #Grouping leaders into separate columns with dummy variables\n",
    "df.iloc[:,-5:] = df.iloc[:,-5:].astype(int) #Convert True and False values in new columns to numbers"
   ]
  },
  {
   "cell_type": "code",
   "execution_count": 9,
   "id": "c6dd075b-84df-480c-918d-a5de3ab825ae",
   "metadata": {},
   "outputs": [],
   "source": [
    "df.drop(['Date', 'Robot?', 'Heading', 'Author', 'Top'], axis = 1, inplace = True) #Drop unnecessary columns"
   ]
  },
  {
   "cell_type": "code",
   "execution_count": 10,
   "id": "93974660-28bb-45cd-8d8b-42e0cae7c9a0",
   "metadata": {},
   "outputs": [],
   "source": [
    "df['Cleaned_title'] = df['Title'].str.lower() #Lowercase titles"
   ]
  },
  {
   "cell_type": "code",
   "execution_count": 11,
   "id": "d9ce4974-6fa4-47f9-89bd-40162cb2ae45",
   "metadata": {},
   "outputs": [],
   "source": [
    "#Special characters need to be removed\n",
    "import re\n",
    "\n",
    "df['Cleaned_title'] = df['Cleaned_title'].apply(lambda x: re.sub(r'[^a-záéíóöőúüű0-9\\s]', '', x)) #Removing missing characters from []\n",
    "df['Cleaned_title'] = df['Cleaned_title'].str.replace(r'\\s+', ' ', regex = True).str.strip() #Merge multiple consecutive spaces into one space"
   ]
  },
  {
   "cell_type": "code",
   "execution_count": 12,
   "id": "0c88805e-2654-468a-a733-cff81484f8a5",
   "metadata": {},
   "outputs": [],
   "source": [
    "#Removing stop words (e.g. 'and', 'a', 'an', 'the')\n",
    "\n",
    "from nltk.corpus import stopwords\n",
    "\n",
    "#Adding unique stop words\n",
    "unique_stop_words = ['is', 'ha', 'le', 'fog', '2024', '2024ben', 'te', 'előtt', 'dolog', 'nap', 'párizs', 'kvíz', 'mire', 'olimpia']\n",
    "\n",
    "stop_words = set(stopwords.words('hungarian'))\n",
    "stop_words.update(unique_stop_words)\n",
    "df['Cleaned_title'] = df['Cleaned_title'].apply(lambda x: ' '.join([word for word in x.split() if word not in stop_words]))"
   ]
  },
  {
   "cell_type": "code",
   "execution_count": 13,
   "id": "2d7b1dc8-c7d7-4a07-8042-11335257a995",
   "metadata": {},
   "outputs": [],
   "source": [
    "df.reset_index(inplace = True, drop = True)"
   ]
  },
  {
   "cell_type": "code",
   "execution_count": 14,
   "id": "d109af06-cc16-4a77-ae18-8d412ae3317e",
   "metadata": {},
   "outputs": [
    {
     "name": "stdout",
     "output_type": "stream",
     "text": [
      "[('magyar', 3143), ('rengeteg', 886), ('magyarok', 783), ('magyarországon', 767), ('óriási', 613), ('súlyos', 557), ('fontos', 482), ('komoly', 393), ('forint', 367), ('sokan', 356)]\n"
     ]
    }
   ],
   "source": [
    "from collections import Counter\n",
    "\n",
    "all_words = ' '.join(df['Cleaned_title']).split() #Concatenate all titles into a single string with spaces, then split them\n",
    "                                                   #along the spaces, putting the words into one big list\n",
    "word_counts = Counter(all_words)\n",
    "print(word_counts.most_common(10))"
   ]
  },
  {
   "cell_type": "code",
   "execution_count": 15,
   "id": "eb75d59f-06a3-48b5-93f2-fb2d810352ac",
   "metadata": {},
   "outputs": [],
   "source": [
    "all_words = list(set(all_words))\n",
    "#all_words"
   ]
  },
  {
   "cell_type": "code",
   "execution_count": 16,
   "id": "6c81f206-dedb-4077-ac8d-4b4859fc8763",
   "metadata": {},
   "outputs": [
    {
     "data": {
      "text/plain": [
       "28951"
      ]
     },
     "execution_count": 16,
     "metadata": {},
     "output_type": "execute_result"
    }
   ],
   "source": [
    "len(all_words)"
   ]
  },
  {
   "cell_type": "code",
   "execution_count": null,
   "id": "7e34e397-e40c-4888-bf00-64128c7a0ae8",
   "metadata": {},
   "outputs": [],
   "source": []
  },
  {
   "cell_type": "code",
   "execution_count": 17,
   "id": "e8a8f45e-90f6-4681-af11-3860affaf993",
   "metadata": {},
   "outputs": [],
   "source": [
    "#LET'S LOOK AT THE MODEL ITSELF"
   ]
  },
  {
   "cell_type": "code",
   "execution_count": 18,
   "id": "7ba6636e-09c7-4c13-a17c-41cd1c26e93a",
   "metadata": {},
   "outputs": [],
   "source": [
    "from sklearn.feature_extraction.text import TfidfVectorizer\n",
    "from sklearn.model_selection import train_test_split\n",
    "from sklearn.ensemble import RandomForestRegressor\n",
    "from sklearn.metrics import mean_squared_error"
   ]
  },
  {
   "cell_type": "code",
   "execution_count": 19,
   "id": "e3f8ba1a-1f32-42fd-9597-54ebbf05dc30",
   "metadata": {},
   "outputs": [],
   "source": [
    "#Extract the line(s) containing the longest text\n",
    "max_length = df['Cleaned_title'].apply(len).max()"
   ]
  },
  {
   "cell_type": "code",
   "execution_count": 20,
   "id": "dc9d764e-b219-4255-a772-d397ba34fd66",
   "metadata": {},
   "outputs": [],
   "source": [
    "vectorizer = TfidfVectorizer(max_features = 200)\n",
    "X_text = vectorizer.fit_transform(df['Cleaned_title']).toarray()"
   ]
  },
  {
   "cell_type": "code",
   "execution_count": 21,
   "id": "4afcf77c-0e6c-4182-9e42-8e64d3719cb1",
   "metadata": {},
   "outputs": [],
   "source": [
    "X_features = df.iloc[:, 2:-1]\n",
    "X = pd.concat([pd.DataFrame(X_text), X_features], axis = 1) #Convert X_text to DF and merge it with other features"
   ]
  },
  {
   "cell_type": "code",
   "execution_count": 22,
   "id": "db4b51ac-596c-4c63-bd68-ff6e9df81bef",
   "metadata": {},
   "outputs": [],
   "source": [
    "y = df['Stat']"
   ]
  },
  {
   "cell_type": "code",
   "execution_count": 23,
   "id": "bfb5bbe1-55b2-4ae2-895c-50e11d7cacf3",
   "metadata": {},
   "outputs": [],
   "source": [
    "X_train, X_test, y_train, y_test = train_test_split(X, y, test_size=0.2, random_state=42)"
   ]
  },
  {
   "cell_type": "code",
   "execution_count": 24,
   "id": "efecf455-965f-4d31-a732-2461f99f1208",
   "metadata": {},
   "outputs": [],
   "source": [
    "#Convert column names to strings (this is needed for RandomForestRegressor)\n",
    "X_train.columns = X_train.columns.astype(str)\n",
    "X_test.columns = X_test.columns.astype(str)"
   ]
  },
  {
   "cell_type": "code",
   "execution_count": 25,
   "id": "0d8f9c0f-e6ee-436e-9198-d53a9236f882",
   "metadata": {},
   "outputs": [
    {
     "name": "stdout",
     "output_type": "stream",
     "text": [
      "0                                           float64\n",
      "1                                           float64\n",
      "2                                           float64\n",
      "3                                           float64\n",
      "4                                           float64\n",
      "                                             ...   \n",
      "Lead article?_Afternoon lead article          int64\n",
      "Lead article?_Early morning lead article      int64\n",
      "Lead article?_Morning lead article            int64\n",
      "Lead article?_Not lead article                int64\n",
      "Lead article?_Tabloid lead article            int64\n",
      "Length: 205, dtype: object\n"
     ]
    }
   ],
   "source": [
    "print(X_train.dtypes)"
   ]
  },
  {
   "cell_type": "code",
   "execution_count": 26,
   "id": "ec54a8c3-b1ba-4857-84c3-81c307721c87",
   "metadata": {},
   "outputs": [
    {
     "data": {
      "text/html": [
       "<style>#sk-container-id-1 {\n",
       "  /* Definition of color scheme common for light and dark mode */\n",
       "  --sklearn-color-text: black;\n",
       "  --sklearn-color-line: gray;\n",
       "  /* Definition of color scheme for unfitted estimators */\n",
       "  --sklearn-color-unfitted-level-0: #fff5e6;\n",
       "  --sklearn-color-unfitted-level-1: #f6e4d2;\n",
       "  --sklearn-color-unfitted-level-2: #ffe0b3;\n",
       "  --sklearn-color-unfitted-level-3: chocolate;\n",
       "  /* Definition of color scheme for fitted estimators */\n",
       "  --sklearn-color-fitted-level-0: #f0f8ff;\n",
       "  --sklearn-color-fitted-level-1: #d4ebff;\n",
       "  --sklearn-color-fitted-level-2: #b3dbfd;\n",
       "  --sklearn-color-fitted-level-3: cornflowerblue;\n",
       "\n",
       "  /* Specific color for light theme */\n",
       "  --sklearn-color-text-on-default-background: var(--sg-text-color, var(--theme-code-foreground, var(--jp-content-font-color1, black)));\n",
       "  --sklearn-color-background: var(--sg-background-color, var(--theme-background, var(--jp-layout-color0, white)));\n",
       "  --sklearn-color-border-box: var(--sg-text-color, var(--theme-code-foreground, var(--jp-content-font-color1, black)));\n",
       "  --sklearn-color-icon: #696969;\n",
       "\n",
       "  @media (prefers-color-scheme: dark) {\n",
       "    /* Redefinition of color scheme for dark theme */\n",
       "    --sklearn-color-text-on-default-background: var(--sg-text-color, var(--theme-code-foreground, var(--jp-content-font-color1, white)));\n",
       "    --sklearn-color-background: var(--sg-background-color, var(--theme-background, var(--jp-layout-color0, #111)));\n",
       "    --sklearn-color-border-box: var(--sg-text-color, var(--theme-code-foreground, var(--jp-content-font-color1, white)));\n",
       "    --sklearn-color-icon: #878787;\n",
       "  }\n",
       "}\n",
       "\n",
       "#sk-container-id-1 {\n",
       "  color: var(--sklearn-color-text);\n",
       "}\n",
       "\n",
       "#sk-container-id-1 pre {\n",
       "  padding: 0;\n",
       "}\n",
       "\n",
       "#sk-container-id-1 input.sk-hidden--visually {\n",
       "  border: 0;\n",
       "  clip: rect(1px 1px 1px 1px);\n",
       "  clip: rect(1px, 1px, 1px, 1px);\n",
       "  height: 1px;\n",
       "  margin: -1px;\n",
       "  overflow: hidden;\n",
       "  padding: 0;\n",
       "  position: absolute;\n",
       "  width: 1px;\n",
       "}\n",
       "\n",
       "#sk-container-id-1 div.sk-dashed-wrapped {\n",
       "  border: 1px dashed var(--sklearn-color-line);\n",
       "  margin: 0 0.4em 0.5em 0.4em;\n",
       "  box-sizing: border-box;\n",
       "  padding-bottom: 0.4em;\n",
       "  background-color: var(--sklearn-color-background);\n",
       "}\n",
       "\n",
       "#sk-container-id-1 div.sk-container {\n",
       "  /* jupyter's `normalize.less` sets `[hidden] { display: none; }`\n",
       "     but bootstrap.min.css set `[hidden] { display: none !important; }`\n",
       "     so we also need the `!important` here to be able to override the\n",
       "     default hidden behavior on the sphinx rendered scikit-learn.org.\n",
       "     See: https://github.com/scikit-learn/scikit-learn/issues/21755 */\n",
       "  display: inline-block !important;\n",
       "  position: relative;\n",
       "}\n",
       "\n",
       "#sk-container-id-1 div.sk-text-repr-fallback {\n",
       "  display: none;\n",
       "}\n",
       "\n",
       "div.sk-parallel-item,\n",
       "div.sk-serial,\n",
       "div.sk-item {\n",
       "  /* draw centered vertical line to link estimators */\n",
       "  background-image: linear-gradient(var(--sklearn-color-text-on-default-background), var(--sklearn-color-text-on-default-background));\n",
       "  background-size: 2px 100%;\n",
       "  background-repeat: no-repeat;\n",
       "  background-position: center center;\n",
       "}\n",
       "\n",
       "/* Parallel-specific style estimator block */\n",
       "\n",
       "#sk-container-id-1 div.sk-parallel-item::after {\n",
       "  content: \"\";\n",
       "  width: 100%;\n",
       "  border-bottom: 2px solid var(--sklearn-color-text-on-default-background);\n",
       "  flex-grow: 1;\n",
       "}\n",
       "\n",
       "#sk-container-id-1 div.sk-parallel {\n",
       "  display: flex;\n",
       "  align-items: stretch;\n",
       "  justify-content: center;\n",
       "  background-color: var(--sklearn-color-background);\n",
       "  position: relative;\n",
       "}\n",
       "\n",
       "#sk-container-id-1 div.sk-parallel-item {\n",
       "  display: flex;\n",
       "  flex-direction: column;\n",
       "}\n",
       "\n",
       "#sk-container-id-1 div.sk-parallel-item:first-child::after {\n",
       "  align-self: flex-end;\n",
       "  width: 50%;\n",
       "}\n",
       "\n",
       "#sk-container-id-1 div.sk-parallel-item:last-child::after {\n",
       "  align-self: flex-start;\n",
       "  width: 50%;\n",
       "}\n",
       "\n",
       "#sk-container-id-1 div.sk-parallel-item:only-child::after {\n",
       "  width: 0;\n",
       "}\n",
       "\n",
       "/* Serial-specific style estimator block */\n",
       "\n",
       "#sk-container-id-1 div.sk-serial {\n",
       "  display: flex;\n",
       "  flex-direction: column;\n",
       "  align-items: center;\n",
       "  background-color: var(--sklearn-color-background);\n",
       "  padding-right: 1em;\n",
       "  padding-left: 1em;\n",
       "}\n",
       "\n",
       "\n",
       "/* Toggleable style: style used for estimator/Pipeline/ColumnTransformer box that is\n",
       "clickable and can be expanded/collapsed.\n",
       "- Pipeline and ColumnTransformer use this feature and define the default style\n",
       "- Estimators will overwrite some part of the style using the `sk-estimator` class\n",
       "*/\n",
       "\n",
       "/* Pipeline and ColumnTransformer style (default) */\n",
       "\n",
       "#sk-container-id-1 div.sk-toggleable {\n",
       "  /* Default theme specific background. It is overwritten whether we have a\n",
       "  specific estimator or a Pipeline/ColumnTransformer */\n",
       "  background-color: var(--sklearn-color-background);\n",
       "}\n",
       "\n",
       "/* Toggleable label */\n",
       "#sk-container-id-1 label.sk-toggleable__label {\n",
       "  cursor: pointer;\n",
       "  display: block;\n",
       "  width: 100%;\n",
       "  margin-bottom: 0;\n",
       "  padding: 0.5em;\n",
       "  box-sizing: border-box;\n",
       "  text-align: center;\n",
       "}\n",
       "\n",
       "#sk-container-id-1 label.sk-toggleable__label-arrow:before {\n",
       "  /* Arrow on the left of the label */\n",
       "  content: \"▸\";\n",
       "  float: left;\n",
       "  margin-right: 0.25em;\n",
       "  color: var(--sklearn-color-icon);\n",
       "}\n",
       "\n",
       "#sk-container-id-1 label.sk-toggleable__label-arrow:hover:before {\n",
       "  color: var(--sklearn-color-text);\n",
       "}\n",
       "\n",
       "/* Toggleable content - dropdown */\n",
       "\n",
       "#sk-container-id-1 div.sk-toggleable__content {\n",
       "  max-height: 0;\n",
       "  max-width: 0;\n",
       "  overflow: hidden;\n",
       "  text-align: left;\n",
       "  /* unfitted */\n",
       "  background-color: var(--sklearn-color-unfitted-level-0);\n",
       "}\n",
       "\n",
       "#sk-container-id-1 div.sk-toggleable__content.fitted {\n",
       "  /* fitted */\n",
       "  background-color: var(--sklearn-color-fitted-level-0);\n",
       "}\n",
       "\n",
       "#sk-container-id-1 div.sk-toggleable__content pre {\n",
       "  margin: 0.2em;\n",
       "  border-radius: 0.25em;\n",
       "  color: var(--sklearn-color-text);\n",
       "  /* unfitted */\n",
       "  background-color: var(--sklearn-color-unfitted-level-0);\n",
       "}\n",
       "\n",
       "#sk-container-id-1 div.sk-toggleable__content.fitted pre {\n",
       "  /* unfitted */\n",
       "  background-color: var(--sklearn-color-fitted-level-0);\n",
       "}\n",
       "\n",
       "#sk-container-id-1 input.sk-toggleable__control:checked~div.sk-toggleable__content {\n",
       "  /* Expand drop-down */\n",
       "  max-height: 200px;\n",
       "  max-width: 100%;\n",
       "  overflow: auto;\n",
       "}\n",
       "\n",
       "#sk-container-id-1 input.sk-toggleable__control:checked~label.sk-toggleable__label-arrow:before {\n",
       "  content: \"▾\";\n",
       "}\n",
       "\n",
       "/* Pipeline/ColumnTransformer-specific style */\n",
       "\n",
       "#sk-container-id-1 div.sk-label input.sk-toggleable__control:checked~label.sk-toggleable__label {\n",
       "  color: var(--sklearn-color-text);\n",
       "  background-color: var(--sklearn-color-unfitted-level-2);\n",
       "}\n",
       "\n",
       "#sk-container-id-1 div.sk-label.fitted input.sk-toggleable__control:checked~label.sk-toggleable__label {\n",
       "  background-color: var(--sklearn-color-fitted-level-2);\n",
       "}\n",
       "\n",
       "/* Estimator-specific style */\n",
       "\n",
       "/* Colorize estimator box */\n",
       "#sk-container-id-1 div.sk-estimator input.sk-toggleable__control:checked~label.sk-toggleable__label {\n",
       "  /* unfitted */\n",
       "  background-color: var(--sklearn-color-unfitted-level-2);\n",
       "}\n",
       "\n",
       "#sk-container-id-1 div.sk-estimator.fitted input.sk-toggleable__control:checked~label.sk-toggleable__label {\n",
       "  /* fitted */\n",
       "  background-color: var(--sklearn-color-fitted-level-2);\n",
       "}\n",
       "\n",
       "#sk-container-id-1 div.sk-label label.sk-toggleable__label,\n",
       "#sk-container-id-1 div.sk-label label {\n",
       "  /* The background is the default theme color */\n",
       "  color: var(--sklearn-color-text-on-default-background);\n",
       "}\n",
       "\n",
       "/* On hover, darken the color of the background */\n",
       "#sk-container-id-1 div.sk-label:hover label.sk-toggleable__label {\n",
       "  color: var(--sklearn-color-text);\n",
       "  background-color: var(--sklearn-color-unfitted-level-2);\n",
       "}\n",
       "\n",
       "/* Label box, darken color on hover, fitted */\n",
       "#sk-container-id-1 div.sk-label.fitted:hover label.sk-toggleable__label.fitted {\n",
       "  color: var(--sklearn-color-text);\n",
       "  background-color: var(--sklearn-color-fitted-level-2);\n",
       "}\n",
       "\n",
       "/* Estimator label */\n",
       "\n",
       "#sk-container-id-1 div.sk-label label {\n",
       "  font-family: monospace;\n",
       "  font-weight: bold;\n",
       "  display: inline-block;\n",
       "  line-height: 1.2em;\n",
       "}\n",
       "\n",
       "#sk-container-id-1 div.sk-label-container {\n",
       "  text-align: center;\n",
       "}\n",
       "\n",
       "/* Estimator-specific */\n",
       "#sk-container-id-1 div.sk-estimator {\n",
       "  font-family: monospace;\n",
       "  border: 1px dotted var(--sklearn-color-border-box);\n",
       "  border-radius: 0.25em;\n",
       "  box-sizing: border-box;\n",
       "  margin-bottom: 0.5em;\n",
       "  /* unfitted */\n",
       "  background-color: var(--sklearn-color-unfitted-level-0);\n",
       "}\n",
       "\n",
       "#sk-container-id-1 div.sk-estimator.fitted {\n",
       "  /* fitted */\n",
       "  background-color: var(--sklearn-color-fitted-level-0);\n",
       "}\n",
       "\n",
       "/* on hover */\n",
       "#sk-container-id-1 div.sk-estimator:hover {\n",
       "  /* unfitted */\n",
       "  background-color: var(--sklearn-color-unfitted-level-2);\n",
       "}\n",
       "\n",
       "#sk-container-id-1 div.sk-estimator.fitted:hover {\n",
       "  /* fitted */\n",
       "  background-color: var(--sklearn-color-fitted-level-2);\n",
       "}\n",
       "\n",
       "/* Specification for estimator info (e.g. \"i\" and \"?\") */\n",
       "\n",
       "/* Common style for \"i\" and \"?\" */\n",
       "\n",
       ".sk-estimator-doc-link,\n",
       "a:link.sk-estimator-doc-link,\n",
       "a:visited.sk-estimator-doc-link {\n",
       "  float: right;\n",
       "  font-size: smaller;\n",
       "  line-height: 1em;\n",
       "  font-family: monospace;\n",
       "  background-color: var(--sklearn-color-background);\n",
       "  border-radius: 1em;\n",
       "  height: 1em;\n",
       "  width: 1em;\n",
       "  text-decoration: none !important;\n",
       "  margin-left: 1ex;\n",
       "  /* unfitted */\n",
       "  border: var(--sklearn-color-unfitted-level-1) 1pt solid;\n",
       "  color: var(--sklearn-color-unfitted-level-1);\n",
       "}\n",
       "\n",
       ".sk-estimator-doc-link.fitted,\n",
       "a:link.sk-estimator-doc-link.fitted,\n",
       "a:visited.sk-estimator-doc-link.fitted {\n",
       "  /* fitted */\n",
       "  border: var(--sklearn-color-fitted-level-1) 1pt solid;\n",
       "  color: var(--sklearn-color-fitted-level-1);\n",
       "}\n",
       "\n",
       "/* On hover */\n",
       "div.sk-estimator:hover .sk-estimator-doc-link:hover,\n",
       ".sk-estimator-doc-link:hover,\n",
       "div.sk-label-container:hover .sk-estimator-doc-link:hover,\n",
       ".sk-estimator-doc-link:hover {\n",
       "  /* unfitted */\n",
       "  background-color: var(--sklearn-color-unfitted-level-3);\n",
       "  color: var(--sklearn-color-background);\n",
       "  text-decoration: none;\n",
       "}\n",
       "\n",
       "div.sk-estimator.fitted:hover .sk-estimator-doc-link.fitted:hover,\n",
       ".sk-estimator-doc-link.fitted:hover,\n",
       "div.sk-label-container:hover .sk-estimator-doc-link.fitted:hover,\n",
       ".sk-estimator-doc-link.fitted:hover {\n",
       "  /* fitted */\n",
       "  background-color: var(--sklearn-color-fitted-level-3);\n",
       "  color: var(--sklearn-color-background);\n",
       "  text-decoration: none;\n",
       "}\n",
       "\n",
       "/* Span, style for the box shown on hovering the info icon */\n",
       ".sk-estimator-doc-link span {\n",
       "  display: none;\n",
       "  z-index: 9999;\n",
       "  position: relative;\n",
       "  font-weight: normal;\n",
       "  right: .2ex;\n",
       "  padding: .5ex;\n",
       "  margin: .5ex;\n",
       "  width: min-content;\n",
       "  min-width: 20ex;\n",
       "  max-width: 50ex;\n",
       "  color: var(--sklearn-color-text);\n",
       "  box-shadow: 2pt 2pt 4pt #999;\n",
       "  /* unfitted */\n",
       "  background: var(--sklearn-color-unfitted-level-0);\n",
       "  border: .5pt solid var(--sklearn-color-unfitted-level-3);\n",
       "}\n",
       "\n",
       ".sk-estimator-doc-link.fitted span {\n",
       "  /* fitted */\n",
       "  background: var(--sklearn-color-fitted-level-0);\n",
       "  border: var(--sklearn-color-fitted-level-3);\n",
       "}\n",
       "\n",
       ".sk-estimator-doc-link:hover span {\n",
       "  display: block;\n",
       "}\n",
       "\n",
       "/* \"?\"-specific style due to the `<a>` HTML tag */\n",
       "\n",
       "#sk-container-id-1 a.estimator_doc_link {\n",
       "  float: right;\n",
       "  font-size: 1rem;\n",
       "  line-height: 1em;\n",
       "  font-family: monospace;\n",
       "  background-color: var(--sklearn-color-background);\n",
       "  border-radius: 1rem;\n",
       "  height: 1rem;\n",
       "  width: 1rem;\n",
       "  text-decoration: none;\n",
       "  /* unfitted */\n",
       "  color: var(--sklearn-color-unfitted-level-1);\n",
       "  border: var(--sklearn-color-unfitted-level-1) 1pt solid;\n",
       "}\n",
       "\n",
       "#sk-container-id-1 a.estimator_doc_link.fitted {\n",
       "  /* fitted */\n",
       "  border: var(--sklearn-color-fitted-level-1) 1pt solid;\n",
       "  color: var(--sklearn-color-fitted-level-1);\n",
       "}\n",
       "\n",
       "/* On hover */\n",
       "#sk-container-id-1 a.estimator_doc_link:hover {\n",
       "  /* unfitted */\n",
       "  background-color: var(--sklearn-color-unfitted-level-3);\n",
       "  color: var(--sklearn-color-background);\n",
       "  text-decoration: none;\n",
       "}\n",
       "\n",
       "#sk-container-id-1 a.estimator_doc_link.fitted:hover {\n",
       "  /* fitted */\n",
       "  background-color: var(--sklearn-color-fitted-level-3);\n",
       "}\n",
       "</style><div id=\"sk-container-id-1\" class=\"sk-top-container\"><div class=\"sk-text-repr-fallback\"><pre>RandomForestRegressor()</pre><b>In a Jupyter environment, please rerun this cell to show the HTML representation or trust the notebook. <br />On GitHub, the HTML representation is unable to render, please try loading this page with nbviewer.org.</b></div><div class=\"sk-container\" hidden><div class=\"sk-item\"><div class=\"sk-estimator fitted sk-toggleable\"><input class=\"sk-toggleable__control sk-hidden--visually\" id=\"sk-estimator-id-1\" type=\"checkbox\" checked><label for=\"sk-estimator-id-1\" class=\"sk-toggleable__label fitted sk-toggleable__label-arrow fitted\">&nbsp;&nbsp;RandomForestRegressor<a class=\"sk-estimator-doc-link fitted\" rel=\"noreferrer\" target=\"_blank\" href=\"https://scikit-learn.org/1.5/modules/generated/sklearn.ensemble.RandomForestRegressor.html\">?<span>Documentation for RandomForestRegressor</span></a><span class=\"sk-estimator-doc-link fitted\">i<span>Fitted</span></span></label><div class=\"sk-toggleable__content fitted\"><pre>RandomForestRegressor()</pre></div> </div></div></div></div>"
      ],
      "text/plain": [
       "RandomForestRegressor()"
      ]
     },
     "execution_count": 26,
     "metadata": {},
     "output_type": "execute_result"
    }
   ],
   "source": [
    "model = RandomForestRegressor()\n",
    "model.fit(X_train, y_train)"
   ]
  },
  {
   "cell_type": "code",
   "execution_count": 27,
   "id": "98854c2c-d3c2-4154-bf6e-a5ddf1b43a82",
   "metadata": {},
   "outputs": [
    {
     "name": "stdout",
     "output_type": "stream",
     "text": [
      "RMSE: 49902.72355070007\n"
     ]
    },
    {
     "name": "stderr",
     "output_type": "stream",
     "text": [
      "C:\\Users\\tamas\\AppData\\Local\\Programs\\Python\\Python312\\Lib\\site-packages\\sklearn\\metrics\\_regression.py:492: FutureWarning: 'squared' is deprecated in version 1.4 and will be removed in 1.6. To calculate the root mean squared error, use the function'root_mean_squared_error'.\n",
      "  warnings.warn(\n"
     ]
    }
   ],
   "source": [
    "y_pred = model.predict(X_test)\n",
    "rmse = mean_squared_error(y_test, y_pred, squared = False)\n",
    "print(f'RMSE: {rmse}')"
   ]
  },
  {
   "cell_type": "code",
   "execution_count": 28,
   "id": "54d5c5ca-511a-4146-9a8f-297aacf15a56",
   "metadata": {},
   "outputs": [
    {
     "data": {
      "text/plain": [
       "array([ 6890.095     ,  6683.78699248, 12343.08814286, ...,\n",
       "       86845.21142857, 21590.27299666, 29662.70123119])"
      ]
     },
     "execution_count": 28,
     "metadata": {},
     "output_type": "execute_result"
    }
   ],
   "source": [
    "y_pred"
   ]
  },
  {
   "cell_type": "code",
   "execution_count": null,
   "id": "68ff0919-0124-426b-84af-f609b7bca1d6",
   "metadata": {},
   "outputs": [],
   "source": []
  },
  {
   "cell_type": "code",
   "execution_count": null,
   "id": "9f9ed1e4-1999-40b5-bdb7-ab74406f728f",
   "metadata": {},
   "outputs": [],
   "source": []
  },
  {
   "cell_type": "code",
   "execution_count": 29,
   "id": "5289a9ce-8761-4bf9-8044-3e1420854d71",
   "metadata": {},
   "outputs": [],
   "source": [
    "#TESTING"
   ]
  },
  {
   "cell_type": "code",
   "execution_count": 30,
   "id": "0ce35113-b149-45ec-8176-70c5f219d18a",
   "metadata": {},
   "outputs": [],
   "source": [
    "probe = pd.DataFrame({\n",
    "    'Title': ['Őrült árvágtában a magyarok kedvenc gyümölcslevei: mindenki nézhet egy nagyot a kasszáknál'], #Example article title\n",
    "    'Lead article?_Afternoon lead article': [1],\n",
    "    'Lead article?_Early morning lead article': [0],\n",
    "    'Lead article?_Morning lead article': [0],\n",
    "    'Lead article?_Not lead article': [0],\n",
    "    'Lead article?_Tabloid lead article': [0]\n",
    "}\n",
    "                    )"
   ]
  },
  {
   "cell_type": "code",
   "execution_count": 31,
   "id": "c051aecb-b02c-4e3d-809d-6df5afc10669",
   "metadata": {},
   "outputs": [
    {
     "data": {
      "text/html": [
       "<div>\n",
       "<style scoped>\n",
       "    .dataframe tbody tr th:only-of-type {\n",
       "        vertical-align: middle;\n",
       "    }\n",
       "\n",
       "    .dataframe tbody tr th {\n",
       "        vertical-align: top;\n",
       "    }\n",
       "\n",
       "    .dataframe thead th {\n",
       "        text-align: right;\n",
       "    }\n",
       "</style>\n",
       "<table border=\"1\" class=\"dataframe\">\n",
       "  <thead>\n",
       "    <tr style=\"text-align: right;\">\n",
       "      <th></th>\n",
       "      <th>Title</th>\n",
       "      <th>Lead article?_Afternoon lead article</th>\n",
       "      <th>Lead article?_Early morning lead article</th>\n",
       "      <th>Lead article?_Morning lead article</th>\n",
       "      <th>Lead article?_Not lead article</th>\n",
       "      <th>Lead article?_Tabloid lead article</th>\n",
       "    </tr>\n",
       "  </thead>\n",
       "  <tbody>\n",
       "    <tr>\n",
       "      <th>0</th>\n",
       "      <td>Őrült árvágtában a magyarok kedvenc gyümölcsle...</td>\n",
       "      <td>1</td>\n",
       "      <td>0</td>\n",
       "      <td>0</td>\n",
       "      <td>0</td>\n",
       "      <td>0</td>\n",
       "    </tr>\n",
       "  </tbody>\n",
       "</table>\n",
       "</div>"
      ],
      "text/plain": [
       "                                               Title  \\\n",
       "0  Őrült árvágtában a magyarok kedvenc gyümölcsle...   \n",
       "\n",
       "   Lead article?_Afternoon lead article  \\\n",
       "0                                     1   \n",
       "\n",
       "   Lead article?_Early morning lead article  \\\n",
       "0                                         0   \n",
       "\n",
       "   Lead article?_Morning lead article  Lead article?_Not lead article  \\\n",
       "0                                   0                               0   \n",
       "\n",
       "   Lead article?_Tabloid lead article  \n",
       "0                                   0  "
      ]
     },
     "execution_count": 31,
     "metadata": {},
     "output_type": "execute_result"
    }
   ],
   "source": [
    "probe"
   ]
  },
  {
   "cell_type": "code",
   "execution_count": 32,
   "id": "8bf5ae9b-0d36-4627-87cc-0c73b61cc1af",
   "metadata": {},
   "outputs": [],
   "source": [
    "probe['Cleaned_title'] = probe['Title'].str.lower() #Lowercase titles"
   ]
  },
  {
   "cell_type": "code",
   "execution_count": 33,
   "id": "48c6350d-eaeb-4af9-b830-89fc483236cc",
   "metadata": {},
   "outputs": [],
   "source": [
    "probe['Cleaned_title'] = probe['Cleaned_title'].apply(lambda x: re.sub(r'[^a-záéíóöőúüű0-9\\s]', '', x)) #Removing missing characters from []\n",
    "probe['Cleaned_title'] = probe['Cleaned_title'].str.replace(r'\\s+', ' ', regex = True).str.strip() #Merge multiple consecutive spaces into one space"
   ]
  },
  {
   "cell_type": "code",
   "execution_count": 34,
   "id": "afc2e176-125f-4bb3-91d9-0e00a5ebb768",
   "metadata": {},
   "outputs": [],
   "source": [
    "probe['Cleaned_title'] = probe['Cleaned_title'].apply(lambda x: ' '.join([word for word in x.split() if word not in stop_words]))"
   ]
  },
  {
   "cell_type": "code",
   "execution_count": 35,
   "id": "08fe0a2f-b49b-4778-b0b3-112a220d9b85",
   "metadata": {},
   "outputs": [],
   "source": [
    "#vectorizer = TfidfVectorizer(max_features = 500)\n",
    "probe_text = vectorizer.transform(probe['Cleaned_title']).toarray()"
   ]
  },
  {
   "cell_type": "code",
   "execution_count": 36,
   "id": "dbcbe0b6-d950-41a2-a75c-d44e19ec8ba9",
   "metadata": {},
   "outputs": [],
   "source": [
    "probe = pd.concat([pd.DataFrame(probe_text), probe], axis = 1) ##Convert probe_text to DF and merge it with other features"
   ]
  },
  {
   "cell_type": "code",
   "execution_count": 37,
   "id": "703db848-ac07-4227-bc48-00e102095095",
   "metadata": {},
   "outputs": [],
   "source": [
    "probe.drop(['Title', 'Cleaned_title'], inplace = True, axis = 1)"
   ]
  },
  {
   "cell_type": "code",
   "execution_count": 38,
   "id": "4185c810-ed56-4765-96ad-8912e65a04b1",
   "metadata": {},
   "outputs": [],
   "source": [
    "#Convert column names to strings (this is needed for RandomForestRegressor)\n",
    "probe.columns = probe.columns.astype(str)"
   ]
  },
  {
   "cell_type": "code",
   "execution_count": 39,
   "id": "68805d68-a3a4-40c4-af46-5892d41ee89f",
   "metadata": {},
   "outputs": [],
   "source": [
    "predicted_clicks = model.predict(probe)"
   ]
  },
  {
   "cell_type": "code",
   "execution_count": 40,
   "id": "fd179978-849c-4769-adbe-cdf1ec75f260",
   "metadata": {},
   "outputs": [
    {
     "name": "stdout",
     "output_type": "stream",
     "text": [
      "[38732.86511842]\n"
     ]
    }
   ],
   "source": [
    "print(predicted_clicks)"
   ]
  },
  {
   "cell_type": "code",
   "execution_count": null,
   "id": "23c923cd-17a8-471b-b212-6b45dd9cad84",
   "metadata": {},
   "outputs": [],
   "source": []
  },
  {
   "cell_type": "code",
   "execution_count": 41,
   "id": "b84db353-26eb-4953-91ac-4d826a0a1735",
   "metadata": {},
   "outputs": [
    {
     "data": {
      "text/plain": [
       "['readership_predictor.pkl']"
      ]
     },
     "execution_count": 41,
     "metadata": {},
     "output_type": "execute_result"
    }
   ],
   "source": [
    "#Save the model\n",
    "import joblib\n",
    "joblib.dump(model, 'readership_predictor.pkl')"
   ]
  },
  {
   "cell_type": "code",
   "execution_count": 42,
   "id": "7d334fd2-7836-4b4e-8497-8a4c88d8644a",
   "metadata": {},
   "outputs": [
    {
     "name": "stdout",
     "output_type": "stream",
     "text": [
      "[38732.86511842]\n"
     ]
    }
   ],
   "source": [
    "#Use saved model\n",
    "loaded_model = joblib.load('readership_predictor.pkl')\n",
    "prediction = loaded_model.predict(probe)\n",
    "print(prediction)"
   ]
  },
  {
   "cell_type": "code",
   "execution_count": 43,
   "id": "cf18c6d6-d4d0-4fea-91a3-ac1ca3396c10",
   "metadata": {},
   "outputs": [
    {
     "data": {
      "text/plain": [
       "['tfidf_vectorizer.pkl']"
      ]
     },
     "execution_count": 43,
     "metadata": {},
     "output_type": "execute_result"
    }
   ],
   "source": [
    "#Save the trained vectorizer\n",
    "joblib.dump(vectorizer, 'tfidf_vectorizer.pkl')"
   ]
  },
  {
   "cell_type": "code",
   "execution_count": null,
   "id": "35a0629b-e2bb-4f4e-8cd4-166b2b0459f3",
   "metadata": {},
   "outputs": [],
   "source": []
  }
 ],
 "metadata": {
  "kernelspec": {
   "display_name": "Python 3.12.5",
   "language": "python",
   "name": "python312"
  },
  "language_info": {
   "codemirror_mode": {
    "name": "ipython",
    "version": 3
   },
   "file_extension": ".py",
   "mimetype": "text/x-python",
   "name": "python",
   "nbconvert_exporter": "python",
   "pygments_lexer": "ipython3",
   "version": "3.12.5"
  }
 },
 "nbformat": 4,
 "nbformat_minor": 5
}
